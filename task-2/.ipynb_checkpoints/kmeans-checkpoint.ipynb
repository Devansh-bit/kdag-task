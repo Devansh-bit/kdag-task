{
 "cells": [
  {
   "cell_type": "code",
   "execution_count": 1,
   "id": "2b8bad53-633c-4c77-968e-d8596eb6565c",
   "metadata": {},
   "outputs": [
    {
     "name": "stdout",
     "output_type": "stream",
     "text": [
      "Requirement already satisfied: numpy in c:\\users\\xyznf\\miniconda3\\lib\\site-packages (1.26.4)\n",
      "Requirement already satisfied: opencv-python in c:\\users\\xyznf\\miniconda3\\lib\\site-packages (4.9.0.80)\n"
     ]
    },
    {
     "data": {
      "text/plain": [
       "'C:\\\\coding\\\\kdag-task\\\\task-2'"
      ]
     },
     "execution_count": 1,
     "metadata": {},
     "output_type": "execute_result"
    }
   ],
   "source": [
    "!pip install numpy opencv-python\n",
    "%matplotlib inline\n",
    "%pwd\n"
   ]
  },
  {
   "cell_type": "code",
   "execution_count": 2,
   "id": "63099095-5637-40e9-b5d5-e403af39f0ed",
   "metadata": {},
   "outputs": [
    {
     "name": "stdout",
     "output_type": "stream",
     "text": [
      "[(12, 60), (13, 59), (14, 60), (16, 58), (16, 59)]\n"
     ]
    }
   ],
   "source": [
    "import numpy as np\n",
    "from PIL import Image\n",
    "\n",
    "imgs_path = 'C:\\\\coding\\\\kdag-task\\\\task-2\\\\'\n",
    "\n",
    "# Open the image using Pillow\n",
    "img = Image.open(imgs_path+'1.png')\n",
    "\n",
    "# Convert to RGB mode if necessary (optional)\n",
    "# img = img.convert('RGB')  # Uncomment if needed\n",
    "\n",
    "# Convert the PIL image to a NumPy array\n",
    "img_array = np.array(img)[:,:,0]\n",
    "img = np.array(img)\n",
    "img_array.shape\n",
    "points = []\n",
    "for i in range(img_array.shape[0]):\n",
    "    for j in range(img_array.shape[1]):\n",
    "        if img_array[i, j] != 0:\n",
    "            points.append((i, j))\n",
    "print(points[0:5])"
   ]
  },
  {
   "cell_type": "code",
   "execution_count": 8,
   "id": "0a7aa5fb-ae90-456d-8afa-ed22abaffa7c",
   "metadata": {},
   "outputs": [],
   "source": [
    "import random\n",
    "import copy\n",
    "\n",
    "def generate_centroids(k, shape):\n",
    "    centroids = []\n",
    "    for i in range(k):\n",
    "        centroids.append((random.randint(0, shape[0]), random.randint(0, shape[1])))\n",
    "    return centroids\n",
    "\n",
    "def shift_centroids(k, previous_centroids):\n",
    "    centroids = copy.deepcopy(previous_centroids)\n",
    "    relations = {}\n",
    "    for j in range(k):\n",
    "        relations[j] = []\n",
    "    for point in points:\n",
    "        distances = np.array([(centroid[0]-point[0])**2 + (centroid[1]-point[1])**2 for centroid in centroids])\n",
    "        relations[np.argmin(distances)].append(point)    \n",
    "    for j in range(k):\n",
    "        if len(relations[j]) == 0:\n",
    "            return None\n",
    "        mean = np.mean(relations[j], axis=0, dtype=np.int32)\n",
    "        centroids[j] = (mean[0], mean[1])\n",
    "    return centroids, relations\n",
    "\n",
    "def check_convergence(previous_centroids, current_centroids):\n",
    "    for i in range(len(previous_centroids)):\n",
    "        if previous_centroids[i][0] != current_centroids[i][0] or previous_centroids[i][1] != current_centroids[i][1]:\n",
    "            return False\n",
    "    return True\n",
    "            \n",
    "\n",
    "K = 3\n",
    "iterations = 5\n",
    "\n",
    "variance = []\n",
    "previous_centroids = generate_centroids(K, img_array.shape)\n",
    "current_centroids, relations = shift_centroids(K, previous_centroids)\n",
    "while !check_convergence(previous_centroids, current_centroids):\n",
    "    previous_centroids = current_centroids\n",
    "    current_centroids, relations = shift_centroids(K, previous_centroids)\n",
    "\n",
    "for c in current_centroids:\n",
    "    img = \n"
   ]
  },
  {
   "cell_type": "code",
   "execution_count": null,
   "id": "a8be906e-b015-4a8c-86ac-3e494700a9b2",
   "metadata": {},
   "outputs": [],
   "source": []
  },
  {
   "cell_type": "code",
   "execution_count": null,
   "id": "de10eaf5-9860-43aa-898d-3baee7ab2b34",
   "metadata": {},
   "outputs": [],
   "source": []
  },
  {
   "cell_type": "code",
   "execution_count": null,
   "id": "5d3646c2-eba5-4be0-8693-60a0559d65eb",
   "metadata": {},
   "outputs": [],
   "source": []
  }
 ],
 "metadata": {
  "kernelspec": {
   "display_name": "Python 3 (ipykernel)",
   "language": "python",
   "name": "python3"
  },
  "language_info": {
   "codemirror_mode": {
    "name": "ipython",
    "version": 3
   },
   "file_extension": ".py",
   "mimetype": "text/x-python",
   "name": "python",
   "nbconvert_exporter": "python",
   "pygments_lexer": "ipython3",
   "version": "3.12.2"
  }
 },
 "nbformat": 4,
 "nbformat_minor": 5
}
